{
 "cells": [
  {
   "cell_type": "code",
   "execution_count": null,
   "metadata": {},
   "outputs": [],
   "source": [
    "import pandas as pd"
   ]
  },
  {
   "cell_type": "code",
   "execution_count": null,
   "metadata": {},
   "outputs": [],
   "source": [
    "statecodes =[('AA', 'Armed Forces America'),\n",
    "('AB', 'Alberta'),\n",
    "('AE', 'Armed Forces Europe'),\n",
    "('AK', 'Alaska'),\n",
    "('AL', 'Alabama'),\n",
    "('AP', 'Armed Forces Pacific'),\n",
    "('AR', 'Arkansas'),\n",
    "('AS', 'American Samoa'),\n",
    "('AZ', 'Arizona'),\n",
    "('BC', 'British Columbia'),\n",
    "('CA', 'California'),\n",
    "('CD', 'Canada'),\n",
    "('CO', 'Colorado'),\n",
    "('CT', 'Connecticut'),\n",
    "('DC', 'Dist. Of Columbia'),\n",
    "('DE', 'Delaware'),\n",
    "('FF', 'Foreign Countries'),\n",
    "('FL', 'Florida'),\n",
    "('GA', 'Georgia'),\n",
    "('GU', 'Guam'),\n",
    "('HI', 'Hawaii'),\n",
    "('IA', 'Iowa'),\n",
    "('ID', 'Idaho'),\n",
    "('IL', 'Illinois'),\n",
    "('IN', 'Indiana'),\n",
    "('KS', 'Kansas'),\n",
    "('KY', 'Kentucky'),\n",
    "('LA', 'Louisiana'),\n",
    "('MA', 'Massachusetts'),\n",
    "('MB', 'Manitoba'),\n",
    "('MD', 'Maryland'),\n",
    "('ME', 'Maine'),\n",
    "('MI', 'Michigan'),\n",
    "('MN', 'Minnesota'),\n",
    "('MO', 'Missouri'),\n",
    "('MS', 'Mississippi'),\n",
    "('MT', 'Montana'),\n",
    "('MX', 'Mexico'),\n",
    "('NB', 'New Brunswick'),\n",
    "('NC', 'North Carolina'),\n",
    "('ND', 'North Dakota'),\n",
    "('NE', 'Nebraska'),\n",
    "('NH', 'New Hampshire'),\n",
    "('NJ', 'New Jersey'),\n",
    "('NL', 'Newfoundland and Labrador'),\n",
    "('NM', 'New Mexico'),\n",
    "('NS', 'Nova Scotia'),\n",
    "('NT', 'Northwest Territories'),\n",
    "('NU', 'Nunavut'),\n",
    "('NV', 'Nevada'),\n",
    "('NY', 'New York'),\n",
    "('OH', 'Ohio'),\n",
    "('OK', 'Oklahoma'),\n",
    "('ON', 'Ontario'),\n",
    "('OR', 'Oregon'),\n",
    "('PA', 'Pennsylvania'),\n",
    "('PE', 'Prince Edward Island'),\n",
    "('PR', 'Puerto Rico'),\n",
    "('QC', 'Quebec'),\n",
    "('RI', 'Rhode Island'),\n",
    "('SC', 'South Carolina'),\n",
    "('SD', 'South Dakota'),\n",
    "('SK', 'Saskatchewan'),\n",
    "('TN', 'Tennessee'),\n",
    "('TT', 'Trust Territory'),\n",
    "('TX', 'Texas'),\n",
    "('UN', 'Unknown'),\n",
    "('UT', 'Utah'),\n",
    "('VA', 'Virginia'),\n",
    "('VI', 'Virgin Islands'),\n",
    "('VT', 'Vermont'),\n",
    "('WA', 'Washington'),\n",
    "('WI', 'Wisconsin'),\n",
    "('WV', 'West Virginia'),\n",
    "('WY', 'Wyoming'),\n",
    "('YT', 'Yukon')]"
   ]
  },
  {
   "cell_type": "code",
   "execution_count": null,
   "metadata": {},
   "outputs": [],
   "source": [
    "df=pd.read_csv('./NationalFile_20180801.txt', delimiter='|')"
   ]
  },
  {
   "cell_type": "code",
   "execution_count": null,
   "metadata": {},
   "outputs": [],
   "source": [
    "df.head()"
   ]
  },
  {
   "cell_type": "code",
   "execution_count": null,
   "metadata": {},
   "outputs": [],
   "source": [
    "df = df[df['FEATURE_CLASS'] == 'Glacier']"
   ]
  },
  {
   "cell_type": "code",
   "execution_count": null,
   "metadata": {},
   "outputs": [],
   "source": [
    "df.shape"
   ]
  },
  {
   "cell_type": "code",
   "execution_count": null,
   "metadata": {},
   "outputs": [],
   "source": [
    "import sqlite3"
   ]
  },
  {
   "cell_type": "code",
   "execution_count": null,
   "metadata": {},
   "outputs": [],
   "source": [
    "conn = sqlite3.connect('glaciers.db')"
   ]
  },
  {
   "cell_type": "code",
   "execution_count": null,
   "metadata": {},
   "outputs": [],
   "source": [
    "df.to_sql('glaciers', conn)"
   ]
  },
  {
   "cell_type": "code",
   "execution_count": null,
   "metadata": {},
   "outputs": [],
   "source": [
    "pd.read_sql('select * from glaciers', conn).columns"
   ]
  },
  {
   "cell_type": "code",
   "execution_count": null,
   "metadata": {},
   "outputs": [],
   "source": []
  }
 ],
 "metadata": {
  "kernelspec": {
   "display_name": "Python 3",
   "language": "python",
   "name": "python3"
  },
  "language_info": {
   "codemirror_mode": {
    "name": "ipython",
    "version": 3
   },
   "file_extension": ".py",
   "mimetype": "text/x-python",
   "name": "python",
   "nbconvert_exporter": "python",
   "pygments_lexer": "ipython3",
   "version": "3.6.5"
  }
 },
 "nbformat": 4,
 "nbformat_minor": 2
}
